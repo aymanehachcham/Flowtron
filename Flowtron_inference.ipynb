{
 "cells": [
  {
   "cell_type": "code",
   "execution_count": 1,
   "metadata": {},
   "outputs": [
    {
     "name": "stdout",
     "output_type": "stream",
     "text": [
      "Clonage dans 'flowtron'...\n",
      "remote: Enumerating objects: 132, done.\u001b[K\n",
      "remote: Total 132 (delta 0), reused 0 (delta 0), pack-reused 132\u001b[K\n",
      "Réception d'objets: 100% (132/132), 2.78 MiB | 4.12 MiB/s, fait.\n",
      "Résolution des deltas: 100% (54/54), fait.\n"
     ]
    }
   ],
   "source": [
    "!git clone https://github.com/NVIDIA/flowtron"
   ]
  },
  {
   "cell_type": "code",
   "execution_count": 2,
   "metadata": {},
   "outputs": [
    {
     "name": "stdout",
     "output_type": "stream",
     "text": [
      "Sous-module 'apex' (https://github.com/NVIDIA/apex) enregistré pour le chemin 'apex'\n",
      "Sous-module 'tacotron2' (https://github.com/NVIDIA/tacotron2) enregistré pour le chemin 'tacotron2'\n",
      "Clonage dans '/home/ai3/Documents/Github/Flowtron_inference/flowtron/apex'...\n",
      "Clonage dans '/home/ai3/Documents/Github/Flowtron_inference/flowtron/tacotron2'...\n",
      "Chemin de sous-module 'apex' : '9165b27fdf240f9bc08eac98b849a9d7c6308917' extrait\n",
      "Chemin de sous-module 'tacotron2' : '6f435f7f29c3e1553cf2dd7ca2daf56903b20c39' extrait\n",
      "Sous-module 'waveglow' (https://github.com/NVIDIA/waveglow) enregistré pour le chemin 'waveglow'\n",
      "Clonage dans '/home/ai3/Documents/Github/Flowtron_inference/flowtron/tacotron2/waveglow'...\n",
      "Chemin de sous-module 'waveglow' : '2fd4e63e2918012f55eac2c8a8e75622a39741be' extrait\n"
     ]
    }
   ],
   "source": [
    "!cd flowtron/ && git submodule update --init; cd tacotron2; git submodule update --init"
   ]
  },
  {
   "cell_type": "code",
   "execution_count": 7,
   "metadata": {},
   "outputs": [
    {
     "name": "stdout",
     "output_type": "stream",
     "text": [
      "Collecting matplotlib\n",
      "  Using cached https://files.pythonhosted.org/packages/9d/40/5ba7d4a3f80d39d409f21899972596bf62c8606f1406a825029649eaa439/matplotlib-2.2.5-cp27-cp27mu-manylinux1_x86_64.whl\n",
      "Collecting numpy\n",
      "  Using cached https://files.pythonhosted.org/packages/3a/5f/47e578b3ae79e2624e205445ab77a1848acdaa2929a00eeef6b16eaaeb20/numpy-1.16.6-cp27-cp27mu-manylinux1_x86_64.whl\n",
      "Collecting cycler>=0.10 (from matplotlib)\n",
      "  Using cached https://files.pythonhosted.org/packages/f7/d2/e07d3ebb2bd7af696440ce7e754c59dd546ffe1bbe732c8ab68b9c834e61/cycler-0.10.0-py2.py3-none-any.whl\n",
      "Collecting backports.functools-lru-cache (from matplotlib)\n",
      "  Using cached https://files.pythonhosted.org/packages/da/d1/080d2bb13773803648281a49e3918f65b31b7beebf009887a529357fd44a/backports.functools_lru_cache-1.6.1-py2.py3-none-any.whl\n",
      "Collecting subprocess32 (from matplotlib)\n",
      "Collecting kiwisolver>=1.0.1 (from matplotlib)\n",
      "  Using cached https://files.pythonhosted.org/packages/3d/78/cb9248b2289ec31e301137cedbe4ca503a74ca87f88cdbfd2f8be52323bf/kiwisolver-1.1.0-cp27-cp27mu-manylinux1_x86_64.whl\n",
      "Collecting pytz (from matplotlib)\n",
      "  Using cached https://files.pythonhosted.org/packages/4f/a4/879454d49688e2fad93e59d7d4efda580b783c745fd2ec2a3adf87b0808d/pytz-2020.1-py2.py3-none-any.whl\n",
      "Collecting six>=1.10 (from matplotlib)\n",
      "  Using cached https://files.pythonhosted.org/packages/ee/ff/48bde5c0f013094d729fe4b0316ba2a24774b3ff1c52d924a8a4cb04078a/six-1.15.0-py2.py3-none-any.whl\n",
      "Collecting python-dateutil>=2.1 (from matplotlib)\n",
      "  Using cached https://files.pythonhosted.org/packages/d4/70/d60450c3dd48ef87586924207ae8907090de0b306af2bce5d134d78615cb/python_dateutil-2.8.1-py2.py3-none-any.whl\n",
      "Collecting pyparsing!=2.0.4,!=2.1.2,!=2.1.6,>=2.0.1 (from matplotlib)\n",
      "  Using cached https://files.pythonhosted.org/packages/8a/bb/488841f56197b13700afd5658fc279a2025a39e22449b7cf29864669b15d/pyparsing-2.4.7-py2.py3-none-any.whl\n",
      "Collecting setuptools (from kiwisolver>=1.0.1->matplotlib)\n",
      "  Using cached https://files.pythonhosted.org/packages/e1/b7/182161210a13158cd3ccc41ee19aadef54496b74f2817cc147006ec932b4/setuptools-44.1.1-py2.py3-none-any.whl\n",
      "Installing collected packages: six, cycler, numpy, backports.functools-lru-cache, subprocess32, setuptools, kiwisolver, pytz, python-dateutil, pyparsing, matplotlib\n",
      "Successfully installed backports.functools-lru-cache-1.6.1 cycler-0.10.0 kiwisolver-1.1.0 matplotlib-2.2.5 numpy-1.16.6 pyparsing-2.4.7 python-dateutil-2.8.1 pytz-2020.1 setuptools-44.1.1 six-1.15.0 subprocess32-3.5.4\n"
     ]
    }
   ],
   "source": [
    "!pip install matplotlib numpy inflect scipy Unidecode pillow "
   ]
  },
  {
   "cell_type": "code",
   "execution_count": null,
   "metadata": {},
   "outputs": [],
   "source": []
  },
  {
   "cell_type": "code",
   "execution_count": 5,
   "metadata": {},
   "outputs": [
    {
     "name": "stdout",
     "output_type": "stream",
     "text": [
      "Collecting llvmlite\n",
      "  Using cached https://files.pythonhosted.org/packages/50/cc/04526507e80d546be5688ce0246e40277b61e7949c3347c6609b6a4154cf/llvmlite-0.32.1.tar.gz\n",
      "Building wheels for collected packages: llvmlite\n",
      "  Running setup.py bdist_wheel for llvmlite ... \u001b[?25lerror\n",
      "  Complete output from command /usr/bin/python -u -c \"import setuptools, tokenize;__file__='/tmp/pip-build-zc7sIb/llvmlite/setup.py';f=getattr(tokenize, 'open', open)(__file__);code=f.read().replace('\\r\\n', '\\n');f.close();exec(compile(code, __file__, 'exec'))\" bdist_wheel -d /tmp/tmpI4Pagtpip-wheel- --python-tag cp27:\n",
      "  running bdist_wheel\n",
      "  /usr/bin/python /tmp/pip-build-zc7sIb/llvmlite/ffi/build.py\n",
      "    File \"/tmp/pip-build-zc7sIb/llvmlite/ffi/build.py\", line 122\n",
      "      raise ValueError(msg.format(_ver_check_skip)) from e\n",
      "                                                       ^\n",
      "  SyntaxError: invalid syntax\n",
      "  error: command '/usr/bin/python' failed with exit status 1\n",
      "  \n",
      "  ----------------------------------------\n",
      "\u001b[31m  Failed building wheel for llvmlite\u001b[0m\n",
      "\u001b[?25h  Running setup.py clean for llvmlite\n",
      "Failed to build llvmlite\n",
      "Installing collected packages: llvmlite\n",
      "  Running setup.py install for llvmlite ... \u001b[?25lerror\n",
      "    Complete output from command /usr/bin/python -u -c \"import setuptools, tokenize;__file__='/tmp/pip-build-zc7sIb/llvmlite/setup.py';f=getattr(tokenize, 'open', open)(__file__);code=f.read().replace('\\r\\n', '\\n');f.close();exec(compile(code, __file__, 'exec'))\" install --record /tmp/pip-DbMDo8-record/install-record.txt --single-version-externally-managed --compile --user --prefix=:\n",
      "    running install\n",
      "    running build\n",
      "    got version from file /tmp/pip-build-zc7sIb/llvmlite/llvmlite/_version.py {'version': '0.32.1', 'full': 'aa11b129c0b55973067422397821ae6d44fa5e70'}\n",
      "    running build_ext\n",
      "    /usr/bin/python /tmp/pip-build-zc7sIb/llvmlite/ffi/build.py\n",
      "      File \"/tmp/pip-build-zc7sIb/llvmlite/ffi/build.py\", line 122\n",
      "        raise ValueError(msg.format(_ver_check_skip)) from e\n",
      "                                                         ^\n",
      "    SyntaxError: invalid syntax\n",
      "    error: command '/usr/bin/python' failed with exit status 1\n",
      "    \n",
      "    ----------------------------------------\n",
      "\u001b[31mCommand \"/usr/bin/python -u -c \"import setuptools, tokenize;__file__='/tmp/pip-build-zc7sIb/llvmlite/setup.py';f=getattr(tokenize, 'open', open)(__file__);code=f.read().replace('\\r\\n', '\\n');f.close();exec(compile(code, __file__, 'exec'))\" install --record /tmp/pip-DbMDo8-record/install-record.txt --single-version-externally-managed --compile --user --prefix=\" failed with error code 1 in /tmp/pip-build-zc7sIb/llvmlite/\u001b[0m\n",
      "\u001b[?25h"
     ]
    }
   ],
   "source": [
    "!pip install llvmlite"
   ]
  },
  {
   "cell_type": "code",
   "execution_count": null,
   "metadata": {},
   "outputs": [],
   "source": []
  },
  {
   "cell_type": "code",
   "execution_count": 2,
   "metadata": {},
   "outputs": [
    {
     "name": "stdout",
     "output_type": "stream",
     "text": [
      "Collecting librosa\n",
      "Collecting decorator>=3.0.0 (from librosa)\n",
      "  Using cached https://files.pythonhosted.org/packages/ed/1b/72a1821152d07cf1d8b6fce298aeb06a7eb90f4d6d41acec9861e7cc6df0/decorator-4.4.2-py2.py3-none-any.whl\n",
      "Collecting scipy>=1.0.0 (from librosa)\n",
      "  Using cached https://files.pythonhosted.org/packages/24/40/11b12af7f322c1e20446c037c47344d89bab4922b8859419d82cf56d796d/scipy-1.2.3-cp27-cp27mu-manylinux1_x86_64.whl\n",
      "Collecting joblib>=0.12 (from librosa)\n",
      "  Using cached https://files.pythonhosted.org/packages/28/5c/cf6a2b65a321c4a209efcdf64c2689efae2cb62661f8f6f4bb28547cf1bf/joblib-0.14.1-py2.py3-none-any.whl\n",
      "Collecting audioread>=2.0.0 (from librosa)\n",
      "Collecting numba>=0.43.0 (from librosa)\n",
      "  Using cached https://files.pythonhosted.org/packages/83/f2/938d6b0e6b0be158d7beb7cc6067243783d219e8e0a7474bbe69d0fb5472/numba-0.47.0-cp27-cp27mu-manylinux1_x86_64.whl\n",
      "Collecting scikit-learn!=0.19.0,>=0.14.0 (from librosa)\n",
      "  Using cached https://files.pythonhosted.org/packages/31/9f/042db462417451e81035c3d43b722e88450c628a33dfda69777a801b0d40/scikit_learn-0.20.4-cp27-cp27mu-manylinux1_x86_64.whl\n",
      "Collecting resampy>=0.2.2 (from librosa)\n",
      "Collecting soundfile>=0.9.0 (from librosa)\n",
      "  Using cached https://files.pythonhosted.org/packages/eb/f2/3cbbbf3b96fb9fa91582c438b574cff3f45b29c772f94c400e2c99ef5db9/SoundFile-0.10.3.post1-py2.py3-none-any.whl\n",
      "Collecting numpy>=1.15.0 (from librosa)\n",
      "  Using cached https://files.pythonhosted.org/packages/3a/5f/47e578b3ae79e2624e205445ab77a1848acdaa2929a00eeef6b16eaaeb20/numpy-1.16.6-cp27-cp27mu-manylinux1_x86_64.whl\n",
      "Collecting six>=1.3 (from librosa)\n",
      "  Using cached https://files.pythonhosted.org/packages/ee/ff/48bde5c0f013094d729fe4b0316ba2a24774b3ff1c52d924a8a4cb04078a/six-1.15.0-py2.py3-none-any.whl\n",
      "Collecting setuptools (from numba>=0.43.0->librosa)\n",
      "  Using cached https://files.pythonhosted.org/packages/e1/b7/182161210a13158cd3ccc41ee19aadef54496b74f2817cc147006ec932b4/setuptools-44.1.1-py2.py3-none-any.whl\n",
      "Collecting llvmlite>=0.31.0dev0 (from numba>=0.43.0->librosa)\n",
      "  Using cached https://files.pythonhosted.org/packages/50/cc/04526507e80d546be5688ce0246e40277b61e7949c3347c6609b6a4154cf/llvmlite-0.32.1.tar.gz\n",
      "Collecting funcsigs; python_version < \"3.3\" (from numba>=0.43.0->librosa)\n",
      "  Using cached https://files.pythonhosted.org/packages/69/cb/f5be453359271714c01b9bd06126eaf2e368f1fddfff30818754b5ac2328/funcsigs-1.0.2-py2.py3-none-any.whl\n",
      "Collecting singledispatch; python_version < \"3.4\" (from numba>=0.43.0->librosa)\n",
      "  Using cached https://files.pythonhosted.org/packages/c5/10/369f50bcd4621b263927b0a1519987a04383d4a98fb10438042ad410cf88/singledispatch-3.4.0.3-py2.py3-none-any.whl\n",
      "Collecting enum34; python_version < \"3.4\" (from numba>=0.43.0->librosa)\n",
      "  Using cached https://files.pythonhosted.org/packages/6f/2c/a9386903ece2ea85e9807e0e062174dc26fdce8b05f216d00491be29fad5/enum34-1.1.10-py2-none-any.whl\n",
      "Collecting cffi>=1.0 (from soundfile>=0.9.0->librosa)\n",
      "  Using cached https://files.pythonhosted.org/packages/98/76/90d154092a65911a386eb28fc0c6c65808d2d794d662b392cba236fec11e/cffi-1.14.3-cp27-cp27mu-manylinux1_x86_64.whl\n",
      "Collecting pycparser (from cffi>=1.0->soundfile>=0.9.0->librosa)\n",
      "  Using cached https://files.pythonhosted.org/packages/ae/e7/d9c3a176ca4b02024debf82342dab36efadfc5776f9c8db077e8f6e71821/pycparser-2.20-py2.py3-none-any.whl\n",
      "Building wheels for collected packages: llvmlite\n",
      "  Running setup.py bdist_wheel for llvmlite ... \u001b[?25lerror\n",
      "  Complete output from command /usr/bin/python -u -c \"import setuptools, tokenize;__file__='/tmp/pip-build-QmGeSl/llvmlite/setup.py';f=getattr(tokenize, 'open', open)(__file__);code=f.read().replace('\\r\\n', '\\n');f.close();exec(compile(code, __file__, 'exec'))\" bdist_wheel -d /tmp/tmpVk2bRhpip-wheel- --python-tag cp27:\n",
      "  running bdist_wheel\n",
      "  /usr/bin/python /tmp/pip-build-QmGeSl/llvmlite/ffi/build.py\n",
      "    File \"/tmp/pip-build-QmGeSl/llvmlite/ffi/build.py\", line 122\n",
      "      raise ValueError(msg.format(_ver_check_skip)) from e\n",
      "                                                       ^\n",
      "  SyntaxError: invalid syntax\n",
      "  error: command '/usr/bin/python' failed with exit status 1\n",
      "  \n",
      "  ----------------------------------------\n",
      "\u001b[31m  Failed building wheel for llvmlite\u001b[0m\n",
      "\u001b[?25h  Running setup.py clean for llvmlite\n",
      "Failed to build llvmlite\n",
      "Installing collected packages: decorator, numpy, scipy, joblib, audioread, setuptools, llvmlite, funcsigs, six, singledispatch, enum34, numba, scikit-learn, resampy, pycparser, cffi, soundfile, librosa\n",
      "  Running setup.py install for llvmlite ... \u001b[?25lerror\n",
      "    Complete output from command /usr/bin/python -u -c \"import setuptools, tokenize;__file__='/tmp/pip-build-QmGeSl/llvmlite/setup.py';f=getattr(tokenize, 'open', open)(__file__);code=f.read().replace('\\r\\n', '\\n');f.close();exec(compile(code, __file__, 'exec'))\" install --record /tmp/pip-wfiw63-record/install-record.txt --single-version-externally-managed --compile --user --prefix=:\n",
      "    running install\n",
      "    running build\n",
      "    got version from file /tmp/pip-build-QmGeSl/llvmlite/llvmlite/_version.py {'version': '0.32.1', 'full': 'aa11b129c0b55973067422397821ae6d44fa5e70'}\n",
      "    running build_ext\n",
      "    /usr/bin/python /tmp/pip-build-QmGeSl/llvmlite/ffi/build.py\n",
      "      File \"/tmp/pip-build-QmGeSl/llvmlite/ffi/build.py\", line 122\n",
      "        raise ValueError(msg.format(_ver_check_skip)) from e\n",
      "                                                         ^\n",
      "    SyntaxError: invalid syntax\n",
      "    error: command '/usr/bin/python' failed with exit status 1\n",
      "    \n",
      "    ----------------------------------------\n",
      "\u001b[31mCommand \"/usr/bin/python -u -c \"import setuptools, tokenize;__file__='/tmp/pip-build-QmGeSl/llvmlite/setup.py';f=getattr(tokenize, 'open', open)(__file__);code=f.read().replace('\\r\\n', '\\n');f.close();exec(compile(code, __file__, 'exec'))\" install --record /tmp/pip-wfiw63-record/install-record.txt --single-version-externally-managed --compile --user --prefix=\" failed with error code 1 in /tmp/pip-build-QmGeSl/llvmlite/\u001b[0m\n",
      "\u001b[?25h"
     ]
    }
   ],
   "source": [
    "!pip install librosa"
   ]
  },
  {
   "cell_type": "code",
   "execution_count": null,
   "metadata": {},
   "outputs": [],
   "source": []
  }
 ],
 "metadata": {
  "kernelspec": {
   "display_name": "Python 3",
   "language": "python",
   "name": "python3"
  },
  "language_info": {
   "codemirror_mode": {
    "name": "ipython",
    "version": 3
   },
   "file_extension": ".py",
   "mimetype": "text/x-python",
   "name": "python",
   "nbconvert_exporter": "python",
   "pygments_lexer": "ipython3",
   "version": "3.6.9"
  }
 },
 "nbformat": 4,
 "nbformat_minor": 2
}
